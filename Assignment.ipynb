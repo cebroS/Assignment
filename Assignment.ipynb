{
 "cells": [
  {
   "cell_type": "markdown",
   "id": "28fe2fc6-f94a-40ce-acdb-140618cde333",
   "metadata": {},
   "source": [
    "# My Jupyter Notebook on IBM Watson Studio"
   ]
  },
  {
   "cell_type": "markdown",
   "id": "cd79ed6f-45b8-49dd-b220-298c730554ca",
   "metadata": {},
   "source": [
    "**Shiv Bhanu Singh**<br>\n",
    "Data Scientist"
   ]
  },
  {
   "cell_type": "markdown",
   "id": "04d6a87d-7b26-4686-b008-e8d0b814453a",
   "metadata": {},
   "source": [
    "*I'm interested in Data Science because I like garthering insights from Data and applying sceince to it is just wonderful.*\n"
   ]
  },
  {
   "cell_type": "markdown",
   "id": "0383d009-c20d-4b30-8a64-70ba47772e48",
   "metadata": {},
   "source": [
    "### Returns the sum of two integers"
   ]
  },
  {
   "cell_type": "code",
   "execution_count": 1,
   "id": "e43b6a2b-e322-44a7-b2d6-f5be1959fbe5",
   "metadata": {},
   "outputs": [
    {
     "data": {
      "text/plain": [
       "15"
      ]
     },
     "execution_count": 1,
     "metadata": {},
     "output_type": "execute_result"
    }
   ],
   "source": [
    "x=5\n",
    "y=10\n",
    "\n",
    "x+y"
   ]
  },
  {
   "cell_type": "markdown",
   "id": "791c6c75-31ba-44c2-a772-ef5c47569d90",
   "metadata": {},
   "source": [
    "---\n",
    "- ~The sum is 20~\n",
    "- Wait that's incorrect.\n",
    "- Actual answer is *15* as per result\n"
   ]
  },
  {
   "cell_type": "code",
   "execution_count": null,
   "id": "137abb92-0300-4b74-b32b-b7708698297c",
   "metadata": {},
   "outputs": [],
   "source": []
  }
 ],
 "metadata": {
  "kernelspec": {
   "display_name": "Python",
   "language": "python",
   "name": "conda-env-python-py"
  },
  "language_info": {
   "codemirror_mode": {
    "name": "ipython",
    "version": 3
   },
   "file_extension": ".py",
   "mimetype": "text/x-python",
   "name": "python",
   "nbconvert_exporter": "python",
   "pygments_lexer": "ipython3",
   "version": "3.7.12"
  }
 },
 "nbformat": 4,
 "nbformat_minor": 5
}
